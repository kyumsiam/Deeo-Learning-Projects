{
  "cells": [
    {
      "cell_type": "code",
      "source": [
        "import matplotlib.pyplot as plt\n",
        "import seaborn as sns\n",
        "import pandas as pd\n",
        "\n",
        "import keras\n",
        "from keras.models import Sequential\n",
        "from keras.layers import Dense, Conv2D , MaxPool2D , Flatten , Dropout,LSTM\n",
        "from keras.preprocessing.image import ImageDataGenerator\n",
        "from tensorflow.keras.optimizers import Adam\n",
        "from keras.layers import TimeDistributed, Conv2D, MaxPooling2D, Flatten, Dropout, Dense,LSTM\n",
        "\n",
        "from sklearn.metrics import classification_report,confusion_matrix\n",
        "\n",
        "import tensorflow as tf\n",
        "\n",
        "import os\n",
        "\n",
        "import numpy as np"
      ],
      "metadata": {
        "id": "-flsrbsmA25i"
      },
      "execution_count": 2,
      "outputs": []
    },
    {
      "cell_type": "code",
      "source": [
        "from google.colab import drive\n",
        "drive.mount('/content/drive')"
      ],
      "metadata": {
        "colab": {
          "base_uri": "https://localhost:8080/"
        },
        "id": "aHGTg1f4p2ej",
        "outputId": "8ebd9707-2b90-47a1-98b8-4f2226422c7b"
      },
      "execution_count": 3,
      "outputs": [
        {
          "output_type": "stream",
          "name": "stdout",
          "text": [
            "Drive already mounted at /content/drive; to attempt to forcibly remount, call drive.mount(\"/content/drive\", force_remount=True).\n"
          ]
        }
      ]
    },
    {
      "cell_type": "markdown",
      "source": [
        "**Convert the file from drive to colab local speed up**"
      ],
      "metadata": {
        "id": "Fo3nS8fQwk8X"
      }
    },
    {
      "cell_type": "code",
      "source": [
        "import zipfile\n",
        "\n",
        "zip_ref = zipfile.ZipFile(\"/content/drive/MyDrive/Patato leaf Orginal data/Potato dataset Zip copy.zip\", 'r')\n",
        "zip_ref.extractall(\"/content/dataset\")\n",
        "zip_ref.close()\n",
        ""
      ],
      "metadata": {
        "id": "8TOyYS-dkYGh"
      },
      "execution_count": 4,
      "outputs": []
    },
    {
      "cell_type": "code",
      "execution_count": 5,
      "metadata": {
        "colab": {
          "base_uri": "https://localhost:8080/"
        },
        "id": "3arF4a9z14XF",
        "outputId": "9f5f4d1b-28dc-495c-fd02-00098d8595c8"
      },
      "outputs": [
        {
          "output_type": "stream",
          "name": "stdout",
          "text": [
            "Requirement already satisfied: GPUTil in /usr/local/lib/python3.10/dist-packages (1.4.0)\n",
            "['Potato___Late_blight', 'Potato_Healthy', 'Potato___Early_blight']\n",
            "Checking the the root directory for images,...\n",
            "(3000, 256, 256, 3)\n"
          ]
        }
      ],
      "source": [
        "!pip install GPUTil\n",
        "\n",
        "#importing liberaries\n",
        "\n",
        "import tensorflow as tf\n",
        "import numpy as np\n",
        "from sklearn.metrics import accuracy_score\n",
        "from sklearn.metrics import confusion_matrix\n",
        "from sklearn.metrics import f1_score\n",
        "from sklearn.metrics import recall_score\n",
        "from sklearn.metrics import precision_score\n",
        "from sklearn.metrics import mean_absolute_error\n",
        "from tensorflow.keras.preprocessing.image import ImageDataGenerator\n",
        "import GPUtil\n",
        "import pathlib\n",
        "import os\n",
        "import time\n",
        "import cv2\n",
        "from keras.preprocessing import image\n",
        "import matplotlib.pyplot as plot\n",
        "from keras.preprocessing.image import img_to_array\n",
        "from tabulate import tabulate\n",
        "from tensorflow.keras.optimizers import Adam\n",
        "from tensorflow.keras.utils import to_categorical\n",
        "from numpy import argmax\n",
        "from sklearn.preprocessing import LabelBinarizer\n",
        "from tensorflow.keras.metrics import Accuracy\n",
        "from sklearn.model_selection import train_test_split\n",
        "\n",
        "#\"C:\\Users\\USER\\OneDrive\\Desktop\\Leaf project\\Leaf\\Potato dataset - Copy\"\n",
        "\n",
        "Image_size = (256,256)\n",
        "directory_root = \"/content/dataset/Potato dataset Zip copy\"\n",
        "\n",
        "default_image_size = tuple((256, 256))\n",
        "\n",
        "files = os.listdir(directory_root)\n",
        "print(files)\n",
        "\n",
        "#creating image list containing all Dataset images as directories\n",
        "image_dir_list = []\n",
        "label_list = []\n",
        "print(\"Checking the the root directory for images,...\")\n",
        "root_dir = os.listdir(directory_root)\n",
        "for plant_disease_folder in root_dir:\n",
        "    plant_disease_dir = os.listdir(f\"{directory_root}/{plant_disease_folder}\")\n",
        "    for image in plant_disease_dir:\n",
        "        plant_image_dir = f\"{directory_root}/{plant_disease_folder}/{image}\"\n",
        "        if plant_image_dir.endswith(\".jpg\") == True or plant_image_dir.endswith(\".JPG\") == True:\n",
        "            image_dir_list.append(plant_image_dir)\n",
        "            label_list.append(plant_disease_folder)\n",
        "\n",
        "\n",
        "#Containing all images in a list\n",
        "images_list= []\n",
        "for image_dir in image_dir_list:\n",
        "    if image_dir.endswith(\".jpg\") == True or image_dir.endswith(\".JPG\") == True:\n",
        "        image = cv2.imread(image_dir)\n",
        "        image = cv2.resize(image, default_image_size)\n",
        "        image_array = img_to_array(image)\n",
        "        images_list.append(image_array)\n",
        "\n",
        "\n",
        "#Converting images to numpy array with normalization\n",
        "np_image_list = np.array(images_list, dtype=np.float16) / 255.0\n",
        "print(np_image_list.shape)\n",
        "\n",
        "#binarizing labels\n",
        "df= pd.DataFrame(label_list)\n",
        "df=df.rename(columns={0:'count'})\n",
        "df['count']=df['count'].map({'Potato___Late_blight':0,'Potato___Early_blight':1,'Potato_Healthy':2})\n",
        "image_labels=np.array(df)\n",
        "\n",
        "#label_binarizer = LabelBinarizer()\n",
        "#image_labels = label_binarizer.fit_transform(label_list)\n",
        "#n_classes = len(label_binarizer.classes_)\n",
        "#print(n_classes)\n",
        "\n",
        "X = np_image_list\n",
        "y = image_labels\n",
        "\n",
        "#Importing the KFold module from sklearn for evaluation\n",
        "from sklearn.model_selection import KFold\n",
        "\n",
        "k =10\n",
        "\n",
        "kf = KFold(n_splits=k, random_state=True, shuffle=True)\n",
        "\n",
        "\n",
        "for train_index, test_index in kf.split(X) :\n",
        "    x_train, x_test = X[train_index], X[test_index]\n",
        "    y_train, y_test, = y[train_index], y[test_index]"
      ]
    },
    {
      "cell_type": "code",
      "execution_count": 12,
      "metadata": {
        "id": "P0aalBLW2X83"
      },
      "outputs": [],
      "source": [
        "x_train,x_val,y_train,y_val = train_test_split(x_train,y_train, train_size=0.8, test_size=0.2,random_state=None, shuffle=True)"
      ]
    },
    {
      "cell_type": "code",
      "source": [
        "print(\"x_train:\",x_train.shape)\n",
        "print(\"y_train:\",y_train.shape)\n",
        "print(\"x_test:\",x_test.shape)\n",
        "print(\"y_test:\",y_test.shape)\n",
        "print(\"x_val:\",x_val.shape)\n",
        "print(\"y_val:\",y_val.shape)"
      ],
      "metadata": {
        "colab": {
          "base_uri": "https://localhost:8080/"
        },
        "id": "TNqfS6qLAECI",
        "outputId": "d7c697ef-2e22-4675-fe63-5576ed1fa134"
      },
      "execution_count": 13,
      "outputs": [
        {
          "output_type": "stream",
          "name": "stdout",
          "text": [
            "x_train: (1728, 256, 256, 3)\n",
            "y_train: (1728, 1)\n",
            "x_test: (300, 256, 256, 3)\n",
            "y_test: (300, 1)\n",
            "x_val: (432, 256, 256, 3)\n",
            "y_val: (432, 1)\n"
          ]
        }
      ]
    },
    {
      "cell_type": "markdown",
      "source": [
        "**Datagen**"
      ],
      "metadata": {
        "id": "CIGk_n-JwU0_"
      }
    },
    {
      "cell_type": "code",
      "source": [
        "#4 dIMENTION ( For Use Datagen)\n",
        "x_train = np.array(x_train).reshape(1728,256,256, 3)\n",
        "x_test = np.array(x_test).reshape(300,256,256, 3)\n",
        "x_val = np.array(x_val).reshape(432,256,256, 3)"
      ],
      "metadata": {
        "id": "Hu2kW8hjwULp"
      },
      "execution_count": 14,
      "outputs": []
    },
    {
      "cell_type": "code",
      "source": [
        "datagen = ImageDataGenerator(\n",
        "       featurewise_center=False,\n",
        "       samplewise_center=False,\n",
        "       featurewise_std_normalization=False,\n",
        "       samplewise_std_normalization=False,\n",
        "       zca_whitening=False,\n",
        "       rotation_range = 90,\n",
        "       zoom_range = 0.5,\n",
        "       width_shift_range=0.2,\n",
        "       height_shift_range=0.2,\n",
        "       horizontal_flip = True,\n",
        ")\n",
        "datagen.fit(x_train)\n",
        "datagen.fit(x_val)\n",
        "datagen.fit(x_test)"
      ],
      "metadata": {
        "id": "lVcwFlV6wcZ7"
      },
      "execution_count": 15,
      "outputs": []
    },
    {
      "cell_type": "markdown",
      "source": [
        "**Reshape for model**"
      ],
      "metadata": {
        "id": "7cPYSUj0weTT"
      }
    },
    {
      "cell_type": "code",
      "source": [
        "x_train = np.array(x_train).reshape(1728,1,256,256, 3)\n",
        "x_test = np.array(x_test).reshape(300,1,256,256, 3)\n",
        "x_val = np.array(x_val).reshape(432,1,256,256, 3)"
      ],
      "metadata": {
        "id": "Llw5VmEmAc9K"
      },
      "execution_count": 16,
      "outputs": []
    },
    {
      "cell_type": "code",
      "source": [
        "y_train=np.array(y_train).reshape(1728)\n",
        "y_test=np.array(y_test).reshape(300)\n",
        "y_val=np.array(y_val).reshape(432)"
      ],
      "metadata": {
        "id": "hUMVJwmOd-mH"
      },
      "execution_count": 17,
      "outputs": []
    },
    {
      "cell_type": "code",
      "source": [
        "print(\"x_train:\",x_train.shape)\n",
        "print(\"y_train:\",y_train.shape)\n",
        "print(\"x_test:\",x_test.shape)\n",
        "print(\"y_test:\",y_test.shape)\n",
        "print(\"x_val:\",x_val.shape)\n",
        "print(\"y_val:\",y_val.shape)"
      ],
      "metadata": {
        "colab": {
          "base_uri": "https://localhost:8080/"
        },
        "id": "Aq0828t9At_x",
        "outputId": "1504f29b-90aa-444e-9573-b7894d5275d2"
      },
      "execution_count": 18,
      "outputs": [
        {
          "output_type": "stream",
          "name": "stdout",
          "text": [
            "x_train: (1728, 1, 256, 256, 3)\n",
            "y_train: (1728,)\n",
            "x_test: (300, 1, 256, 256, 3)\n",
            "y_test: (300,)\n",
            "x_val: (432, 1, 256, 256, 3)\n",
            "y_val: (432,)\n"
          ]
        }
      ]
    },
    {
      "cell_type": "code",
      "source": [
        "# instantiate model\n",
        "model = Sequential()\n",
        "\n",
        "# add three time-distributed convolutional layers for feature extraction\n",
        "model.add(TimeDistributed(Conv2D(64, (3, 3), activation='relu'),input_shape=(1,256,256,3)))\n",
        "model.add(TimeDistributed(MaxPooling2D((2, 2), strides=(1, 1))))\n",
        "\n",
        "model.add(TimeDistributed(Conv2D(128, (3,3), activation='relu')))\n",
        "model.add(TimeDistributed(MaxPooling2D((2, 2), strides=(2, 2))))\n",
        "\n",
        "model.add(TimeDistributed(Conv2D(128, (3,3), activation='relu')))\n",
        "model.add(TimeDistributed(MaxPooling2D((2, 2), strides=(2, 2))))\n",
        "\n",
        "model.add(TimeDistributed(Conv2D(256, (3,3), activation='relu')))\n",
        "model.add(TimeDistributed(MaxPooling2D((2, 2), strides=(2, 2))))\n",
        "\n",
        "model.add(TimeDistributed(Conv2D(256, (3,3), activation='relu')))\n",
        "model.add(TimeDistributed(MaxPooling2D((2, 2), strides=(2, 2))))\n",
        "\n",
        "# extract features and dropout\n",
        "model.add(TimeDistributed(Flatten()))\n",
        "model.add(Dropout(0.5))\n",
        "\n",
        "# input to LSTM\n",
        "model.add(LSTM(256, return_sequences=False, dropout=0.5))\n",
        "\n",
        "# classifier with sigmoid activation for multilabel\n",
        "model.add(Dense(3, activation='sigmoid'))\n",
        "\n",
        "# compile the model with binary_crossentropy loss for multilabel\n",
        "model.compile(optimizer='rmsprop', loss='sparse_categorical_crossentropy',metrics = ['accuracy'])\n",
        "\n",
        "# look at the params before training\n",
        "model.summary()"
      ],
      "metadata": {
        "colab": {
          "base_uri": "https://localhost:8080/"
        },
        "id": "OhVJcyLxAubw",
        "outputId": "916e47a0-8e87-422a-8e8f-d480c999ad58"
      },
      "execution_count": 19,
      "outputs": [
        {
          "output_type": "stream",
          "name": "stdout",
          "text": [
            "Model: \"sequential\"\n",
            "_________________________________________________________________\n",
            " Layer (type)                Output Shape              Param #   \n",
            "=================================================================\n",
            " time_distributed (TimeDist  (None, 1, 254, 254, 64)   1792      \n",
            " ributed)                                                        \n",
            "                                                                 \n",
            " time_distributed_1 (TimeDi  (None, 1, 253, 253, 64)   0         \n",
            " stributed)                                                      \n",
            "                                                                 \n",
            " time_distributed_2 (TimeDi  (None, 1, 251, 251, 128   73856     \n",
            " stributed)                  )                                   \n",
            "                                                                 \n",
            " time_distributed_3 (TimeDi  (None, 1, 125, 125, 128   0         \n",
            " stributed)                  )                                   \n",
            "                                                                 \n",
            " time_distributed_4 (TimeDi  (None, 1, 123, 123, 128   147584    \n",
            " stributed)                  )                                   \n",
            "                                                                 \n",
            " time_distributed_5 (TimeDi  (None, 1, 61, 61, 128)    0         \n",
            " stributed)                                                      \n",
            "                                                                 \n",
            " time_distributed_6 (TimeDi  (None, 1, 59, 59, 256)    295168    \n",
            " stributed)                                                      \n",
            "                                                                 \n",
            " time_distributed_7 (TimeDi  (None, 1, 29, 29, 256)    0         \n",
            " stributed)                                                      \n",
            "                                                                 \n",
            " time_distributed_8 (TimeDi  (None, 1, 27, 27, 256)    590080    \n",
            " stributed)                                                      \n",
            "                                                                 \n",
            " time_distributed_9 (TimeDi  (None, 1, 13, 13, 256)    0         \n",
            " stributed)                                                      \n",
            "                                                                 \n",
            " time_distributed_10 (TimeD  (None, 1, 43264)          0         \n",
            " istributed)                                                     \n",
            "                                                                 \n",
            " dropout (Dropout)           (None, 1, 43264)          0         \n",
            "                                                                 \n",
            " lstm (LSTM)                 (None, 256)               44565504  \n",
            "                                                                 \n",
            " dense (Dense)               (None, 3)                 771       \n",
            "                                                                 \n",
            "=================================================================\n",
            "Total params: 45674755 (174.24 MB)\n",
            "Trainable params: 45674755 (174.24 MB)\n",
            "Non-trainable params: 0 (0.00 Byte)\n",
            "_________________________________________________________________\n"
          ]
        }
      ]
    },
    {
      "cell_type": "code",
      "source": [
        "#opt = Adam(lr=0.01)\n",
        "model.compile(loss = 'sparse_categorical_crossentropy', optimizer = 'adam', metrics = ['accuracy'])"
      ],
      "metadata": {
        "id": "kgsUYVJgAx4k"
      },
      "execution_count": 20,
      "outputs": []
    },
    {
      "cell_type": "code",
      "source": [
        "history = model.fit(x_train,y_train,epochs =3,validation_data = (x_val, y_val),shuffle=True,batch_size=32)"
      ],
      "metadata": {
        "colab": {
          "base_uri": "https://localhost:8080/"
        },
        "id": "TqUn2U9eA_2y",
        "outputId": "34c30f63-1c8e-4e3b-bc9a-62e0eaf3fa54"
      },
      "execution_count": 21,
      "outputs": [
        {
          "output_type": "stream",
          "name": "stdout",
          "text": [
            "Epoch 1/3\n",
            "54/54 [==============================] - 46s 503ms/step - loss: 0.5884 - accuracy: 0.7378 - val_loss: 0.0248 - val_accuracy: 1.0000\n",
            "Epoch 2/3\n",
            "54/54 [==============================] - 22s 399ms/step - loss: 0.3009 - accuracy: 0.8970 - val_loss: 0.0581 - val_accuracy: 0.9931\n",
            "Epoch 3/3\n",
            "54/54 [==============================] - 21s 398ms/step - loss: 0.0186 - accuracy: 0.9983 - val_loss: 0.0108 - val_accuracy: 1.0000\n"
          ]
        }
      ]
    },
    {
      "cell_type": "code",
      "source": [
        "acc = history.history['accuracy']\n",
        "val_acc = history.history['val_accuracy']\n",
        "\n",
        "loss = history.history['loss']\n",
        "val_loss = history.history['val_loss']"
      ],
      "metadata": {
        "id": "DOgQzWmvBLnB"
      },
      "execution_count": 22,
      "outputs": []
    },
    {
      "cell_type": "code",
      "source": [
        "# Accuracy AND loss Graph\n",
        "EPOCHS=3\n",
        "plt.figure(figsize=(8, 8))\n",
        "plt.subplot(1, 2, 1)\n",
        "plt.plot(range(EPOCHS), acc, label='Training Accuracy')\n",
        "plt.plot(range(EPOCHS), val_acc, label='Validation Accuracy')\n",
        "plt.legend(loc='lower right')\n",
        "plt.title('Training and Validation Accuracy')\n",
        "\n",
        "plt.subplot(1, 2, 2)\n",
        "plt.plot(range(EPOCHS), loss, label='Training Loss')\n",
        "plt.plot(range(EPOCHS), val_loss, label='Validation Loss')\n",
        "plt.legend(loc='upper right')\n",
        "plt.title('Training and Validation Loss')\n",
        "plt.show()"
      ],
      "metadata": {
        "id": "I4Vcfh9EBEzK",
        "colab": {
          "base_uri": "https://localhost:8080/",
          "height": 699
        },
        "outputId": "a60ca863-1297-4e0b-fa10-4e35b8411c39"
      },
      "execution_count": 23,
      "outputs": [
        {
          "output_type": "display_data",
          "data": {
            "text/plain": [
              "<Figure size 800x800 with 2 Axes>"
            ],
            "image/png": "[encoded data removed]"
          },
          "metadata": {}
        }
      ]
    },
    {
      "cell_type": "code",
      "source": [
        "scores = model.evaluate(x_test)"
      ],
      "metadata": {
        "id": "HHeI8zuHBQxq",
        "colab": {
          "base_uri": "https://localhost:8080/"
        },
        "outputId": "8d4fbce4-bfe0-41ec-81f1-2afa9813d6ec"
      },
      "execution_count": 24,
      "outputs": [
        {
          "output_type": "stream",
          "name": "stdout",
          "text": [
            "10/10 [==============================] - 1s 15ms/step - loss: 0.0000e+00 - accuracy: 0.0000e+00\n"
          ]
        }
      ]
    },
    {
      "cell_type": "code",
      "source": [
        "from sklearn.metrics import classification_report"
      ],
      "metadata": {
        "id": "li5984MztrNO"
      },
      "execution_count": 25,
      "outputs": []
    },
    {
      "cell_type": "code",
      "source": [
        "# predict probabilities for test set\n",
        "yhat_probs = model.predict(x_test, verbose=0)\n",
        "# predict crisp classes for test set\n",
        "yhat_classes = model.predict_classes(x_test, verbose=0)\n",
        "# reduce to 1d array\n",
        "yhat_probs = yhat_probs[:, 0]\n",
        "yhat_classes = yhat_classes[:, 0]"
      ],
      "metadata": {
        "colab": {
          "base_uri": "https://localhost:8080/",
          "height": 245
        },
        "id": "TwGsFKlbtsBl",
        "outputId": "7a66ec27-d96b-4a15-b046-332726ad1877"
      },
      "execution_count": 26,
      "outputs": [
        {
          "output_type": "error",
          "ename": "AttributeError",
          "evalue": "ignored",
          "traceback": [
            "\u001b[0;31m---------------------------------------------------------------------------\u001b[0m",
            "\u001b[0;31mAttributeError\u001b[0m                            Traceback (most recent call last)",
            "\u001b[0;32m<ipython-input-26-d3ea3c428a58>\u001b[0m in \u001b[0;36m<cell line: 4>\u001b[0;34m()\u001b[0m\n\u001b[1;32m      2\u001b[0m \u001b[0myhat_probs\u001b[0m \u001b[0;34m=\u001b[0m \u001b[0mmodel\u001b[0m\u001b[0;34m.\u001b[0m\u001b[0mpredict\u001b[0m\u001b[0;34m(\u001b[0m\u001b[0mx_test\u001b[0m\u001b[0;34m,\u001b[0m \u001b[0mverbose\u001b[0m\u001b[0;34m=\u001b[0m\u001b[0;36m0\u001b[0m\u001b[0;34m)\u001b[0m\u001b[0;34m\u001b[0m\u001b[0;34m\u001b[0m\u001b[0m\n\u001b[1;32m      3\u001b[0m \u001b[0;31m# predict crisp classes for test set\u001b[0m\u001b[0;34m\u001b[0m\u001b[0;34m\u001b[0m\u001b[0m\n\u001b[0;32m----> 4\u001b[0;31m \u001b[0myhat_classes\u001b[0m \u001b[0;34m=\u001b[0m \u001b[0mmodel\u001b[0m\u001b[0;34m.\u001b[0m\u001b[0mpredict_classes\u001b[0m\u001b[0;34m(\u001b[0m\u001b[0mx_test\u001b[0m\u001b[0;34m,\u001b[0m \u001b[0mverbose\u001b[0m\u001b[0;34m=\u001b[0m\u001b[0;36m0\u001b[0m\u001b[0;34m)\u001b[0m\u001b[0;34m\u001b[0m\u001b[0;34m\u001b[0m\u001b[0m\n\u001b[0m\u001b[1;32m      5\u001b[0m \u001b[0;31m# reduce to 1d array\u001b[0m\u001b[0;34m\u001b[0m\u001b[0;34m\u001b[0m\u001b[0m\n\u001b[1;32m      6\u001b[0m \u001b[0myhat_probs\u001b[0m \u001b[0;34m=\u001b[0m \u001b[0myhat_probs\u001b[0m\u001b[0;34m[\u001b[0m\u001b[0;34m:\u001b[0m\u001b[0;34m,\u001b[0m \u001b[0;36m0\u001b[0m\u001b[0;34m]\u001b[0m\u001b[0;34m\u001b[0m\u001b[0;34m\u001b[0m\u001b[0m\n",
            "\u001b[0;31mAttributeError\u001b[0m: 'Sequential' object has no attribute 'predict_classes'"
          ]
        }
      ]
    },
    {
      "cell_type": "code",
      "source": [
        "pred_y1 = model.predict(x_test)\n",
        "print(\"Normal accuracy: \", accuracy_score(y_test, pred_y1))\n",
        "# Look at classification report to evaluate the model\n",
        "print(classification_report(y_test, pred_y1))\n",
        "print('--------------------------------------------------------')\n",
        "print(\"\")"
      ],
      "metadata": {
        "colab": {
          "base_uri": "https://localhost:8080/",
          "height": 245
        },
        "id": "9NkfIhLsz7v5",
        "outputId": "a4084803-6476-4bb2-cd7a-ea4df47ca717"
      },
      "execution_count": 1,
      "outputs": [
        {
          "output_type": "error",
          "ename": "NameError",
          "evalue": "ignored",
          "traceback": [
            "\u001b[0;31m---------------------------------------------------------------------------\u001b[0m",
            "\u001b[0;31mNameError\u001b[0m                                 Traceback (most recent call last)",
            "\u001b[0;32m<ipython-input-1-ff0b7b476cff>\u001b[0m in \u001b[0;36m<cell line: 1>\u001b[0;34m()\u001b[0m\n\u001b[0;32m----> 1\u001b[0;31m \u001b[0mpred_y1\u001b[0m \u001b[0;34m=\u001b[0m \u001b[0mmodel\u001b[0m\u001b[0;34m.\u001b[0m\u001b[0mpredict\u001b[0m\u001b[0;34m(\u001b[0m\u001b[0mx_test\u001b[0m\u001b[0;34m)\u001b[0m\u001b[0;34m\u001b[0m\u001b[0;34m\u001b[0m\u001b[0m\n\u001b[0m\u001b[1;32m      2\u001b[0m \u001b[0mprint\u001b[0m\u001b[0;34m(\u001b[0m\u001b[0;34m\"Normal accuracy: \"\u001b[0m\u001b[0;34m,\u001b[0m \u001b[0maccuracy_score\u001b[0m\u001b[0;34m(\u001b[0m\u001b[0my_test\u001b[0m\u001b[0;34m,\u001b[0m \u001b[0mpred_y1\u001b[0m\u001b[0;34m)\u001b[0m\u001b[0;34m)\u001b[0m\u001b[0;34m\u001b[0m\u001b[0;34m\u001b[0m\u001b[0m\n\u001b[1;32m      3\u001b[0m \u001b[0;31m# Look at classification report to evaluate the model\u001b[0m\u001b[0;34m\u001b[0m\u001b[0;34m\u001b[0m\u001b[0m\n\u001b[1;32m      4\u001b[0m \u001b[0mprint\u001b[0m\u001b[0;34m(\u001b[0m\u001b[0mclassification_report\u001b[0m\u001b[0;34m(\u001b[0m\u001b[0my_test\u001b[0m\u001b[0;34m,\u001b[0m \u001b[0mpred_y1\u001b[0m\u001b[0;34m)\u001b[0m\u001b[0;34m)\u001b[0m\u001b[0;34m\u001b[0m\u001b[0;34m\u001b[0m\u001b[0m\n\u001b[1;32m      5\u001b[0m \u001b[0mprint\u001b[0m\u001b[0;34m(\u001b[0m\u001b[0;34m'--------------------------------------------------------'\u001b[0m\u001b[0;34m)\u001b[0m\u001b[0;34m\u001b[0m\u001b[0;34m\u001b[0m\u001b[0m\n",
            "\u001b[0;31mNameError\u001b[0m: name 'model' is not defined"
          ]
        }
      ]
    },
    {
      "cell_type": "code",
      "source": [],
      "metadata": {
        "id": "T2NbIuMPz8x3"
      },
      "execution_count": null,
      "outputs": []
    }
  ],
  "metadata": {
    "colab": {
      "provenance": [],
      "gpuType": "T4"
    },
    "kernelspec": {
      "display_name": "Python 3",
      "name": "python3"
    },
    "language_info": {
      "name": "python"
    },
    "accelerator": "GPU"
  },
  "nbformat": 4,
  "nbformat_minor": 0
}